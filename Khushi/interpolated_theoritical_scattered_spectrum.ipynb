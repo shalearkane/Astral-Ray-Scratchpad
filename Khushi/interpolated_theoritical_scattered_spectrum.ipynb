{
 "cells": [
  {
   "cell_type": "code",
   "execution_count": 20,
   "metadata": {},
   "outputs": [
    {
     "name": "stdout",
     "output_type": "stream",
     "text": [
      "Loaded data for mg\n",
      "Loaded data for si\n",
      "Loaded data for fe\n",
      "Loaded data for ca\n",
      "Loaded data for al\n",
      "Loaded data for o\n",
      "Loaded data for na\n",
      "Loaded data for k\n",
      "Total Scattered Spectrum: [2.11526056e+09 4.66170940e+09 1.35178750e+09 ... 6.80508850e-08\n",
      " 6.73634263e-08 6.66829204e-08]\n",
      "Saved total scattered spectrum to /home/ka/Downloads/fv5.5.2/total_scattered_spectrum.csv\n"
     ]
    },
    {
     "data": {
      "image/png": "[encoded data removed]",
      "text/plain": [
       "<Figure size 640x480 with 1 Axes>"
      ]
     },
     "metadata": {},
     "output_type": "display_data"
    }
   ],
   "source": [
    "import os\n",
    "import pandas as pd\n",
    "import numpy as np\n",
    "import matplotlib.pyplot as plt\n",
    "from scipy.interpolate import interp1d\n",
    "\n",
    "# List of elements you want to process\n",
    "selected_elements = ['mg', 'si', 'fe', 'ca', 'al', 'o', 'na', 'k']  # 'ti' removed\n",
    "\n",
    "# Function to load and clean data from ffast text files\n",
    "def load_ffast_data(file_path):\n",
    "    try:\n",
    "        # Read the text file into a pandas DataFrame, assuming space-separated values\n",
    "        # Skip comment lines and headers with non-relevant data\n",
    "        data = pd.read_csv(file_path, delim_whitespace=True, comment='#', header=None)\n",
    "        \n",
    "        # Skip rows where the first column is not numeric\n",
    "        data = data[pd.to_numeric(data[0], errors='coerce').notnull()]\n",
    "        \n",
    "        # Reset index after dropping rows\n",
    "        data.reset_index(drop=True, inplace=True)\n",
    "        \n",
    "        # Check the number of columns to determine how to handle the assignment dynamically\n",
    "        num_columns = data.shape[1]\n",
    "        \n",
    "        # Adjust column names based on the actual number of columns in the data\n",
    "        if num_columns == 14:\n",
    "            data.columns = ['Energy', 'F1', 'F2', 'MuRho', 'SigmaRho', 'Column6', 'Column7', 'Column8', 'Column9', 'Column10', 'Column11', 'Column12', 'Column13', 'Column14']\n",
    "        elif num_columns == 13:\n",
    "            data.columns = ['Energy', 'F1', 'F2', 'MuRho', 'SigmaRho', 'Column6', 'Column7', 'Column8', 'Column9', 'Column10', 'Column11', 'Column12', 'Column13']\n",
    "        else:\n",
    "            print(f\"Unexpected column count in {file_path}. Skipping this file.\")\n",
    "            return None\n",
    "        \n",
    "        # Filter out unnecessary columns (columns with NaN or irrelevant data)\n",
    "        data = data[['Energy', 'F1', 'F2', 'MuRho', 'SigmaRho']].dropna()\n",
    "        \n",
    "        # Convert columns to numeric (for later calculations)\n",
    "        data = data.apply(pd.to_numeric, errors='coerce')\n",
    "        \n",
    "        return data\n",
    "    except Exception as e:\n",
    "        print(f\"Error reading file {file_path}: {e}\")\n",
    "        return None\n",
    "\n",
    "# Function to interpolate SigmaRho for given energies\n",
    "def interpolate_cross_section(data, energies):\n",
    "    \"\"\"\n",
    "    Interpolates the SigmaRho values from the ffast data for the given energies.\n",
    "    \"\"\"\n",
    "    # Create an interpolation function for SigmaRho based on Energy\n",
    "    interpolation_function = interp1d(data['Energy'], data['SigmaRho'], kind='linear', fill_value='extrapolate')\n",
    "    \n",
    "    # Interpolate the SigmaRho values for the given energies\n",
    "    interpolated_sigma_rho = interpolation_function(energies)\n",
    "    \n",
    "    return interpolated_sigma_rho\n",
    "\n",
    "# Atomic mass dictionary (to convert abundance and density into number density)\n",
    "atomic_masses = {\n",
    "    'mg': 24.305, 'si': 28.085, 'fe': 55.845, 'ca': 40.078, 'al': 26.982, 'o': 15.999, 'na': 22.990, 'k': 39.098\n",
    "}\n",
    "\n",
    "# Model for calculating the scattered spectrum with element densities and abundances\n",
    "def model_scattered_spectrum_with_density(ffast_data_dict, incident_spectrum, energies, element_properties):\n",
    "    total_scattered_spectrum = np.zeros_like(incident_spectrum)\n",
    "\n",
    "    # Loop through each element and calculate its contribution\n",
    "    for element, properties in element_properties.items():\n",
    "        abundance = properties['abundance']\n",
    "        density = properties['density']\n",
    "        \n",
    "        # Get the cross-section data for the element\n",
    "        if element in ffast_data_dict:\n",
    "            element_data = ffast_data_dict[element]\n",
    "            \n",
    "            # Interpolate SigmaRho for the element at the incident energies\n",
    "            sigma_rho_interpolated = interpolate_cross_section(element_data, energies)\n",
    "            \n",
    "            # Get the atomic mass for the element\n",
    "            atomic_mass = atomic_masses.get(element, 1)  # Default to 1 if not found (this should not happen)\n",
    "            \n",
    "            # Calculate number density (abundance * density / atomic mass)\n",
    "            number_density = abundance * density / atomic_mass\n",
    "            \n",
    "            # Calculate the element's contribution to the scattered spectrum\n",
    "            element_scattered_spectrum = number_density * sigma_rho_interpolated * incident_spectrum\n",
    "            \n",
    "            # Add the element's scattered spectrum to the total scattered spectrum\n",
    "            total_scattered_spectrum += element_scattered_spectrum\n",
    "        else:\n",
    "            print(f\"Data not available for element: {element}\")\n",
    "    \n",
    "    return total_scattered_spectrum\n",
    "\n",
    "# Function to load the incident spectrum data from file\n",
    "def load_incident_spectrum(file_path):\n",
    "    try:\n",
    "        # Read the file assuming space-separated values\n",
    "        incident_data = pd.read_csv(file_path, delim_whitespace=True, header=None)\n",
    "        \n",
    "        # Extract the energy (first column) and incident intensity (third column)\n",
    "        incident_data.columns = ['Energy', 'Column2', 'Intensity']\n",
    "        \n",
    "        # Drop the second column since it's all zeros (not needed)\n",
    "        incident_data = incident_data.drop(columns=['Column2'])\n",
    "        \n",
    "        # Convert the data to numeric values (in case of any parsing issues)\n",
    "        incident_data = incident_data.apply(pd.to_numeric, errors='coerce')\n",
    "        \n",
    "        return incident_data[['Energy', 'Intensity']]\n",
    "    \n",
    "    except Exception as e:\n",
    "        print(f\"Error reading incident file {file_path}: {e}\")\n",
    "        return None\n",
    "\n",
    "# Main section to process ffast data and calculate total scattered spectrum\n",
    "def main():\n",
    "    # Path to the folder where ffast data files are located\n",
    "    folder_path = '/home/ka/Downloads/Inter-IIT/X2ABUND_LMODEL_V1/data_constants/ffast'  # Update this with the actual folder path\n",
    "\n",
    "    # Dictionary to store data for the selected elements\n",
    "    ffast_data_dict = {}\n",
    "\n",
    "    # Load data for all selected elements\n",
    "    for element in selected_elements:\n",
    "        atomic_number_map = {\n",
    "            'mg': 12, 'si': 14, 'fe': 26, 'ca': 20, 'al': 13, 'o': 8, 'na': 11, 'k': 19\n",
    "        }\n",
    "\n",
    "        atomic_number = atomic_number_map[element]\n",
    "        file_name = f\"ffast_{atomic_number}_{element}.txt\"  # New naming convention\n",
    "        file_path = os.path.join(folder_path, file_name)\n",
    "        \n",
    "        if os.path.exists(file_path):\n",
    "            data = load_ffast_data(file_path)\n",
    "            if data is not None:\n",
    "                ffast_data_dict[element] = data\n",
    "                print(f\"Loaded data for {element}\")\n",
    "        else:\n",
    "            print(f\"File not found for element: {element}\")\n",
    "    \n",
    "    # Elemental properties (abundance and density) for each element\n",
    "    element_properties = {\n",
    "        'fe': {'abundance': 3.71879, 'density': 7.8600},\n",
    "        'ca': {'abundance': 17.2553, 'density': 1.5500},\n",
    "        'si': {'abundance': 14.2052, 'density': 2.3200},\n",
    "        'al': {'abundance': 16.7200, 'density': 2.6941},\n",
    "        'mg': {'abundance': 2.99045, 'density': 1.7350},\n",
    "        'na': {'abundance': 0.110191, 'density': 0.9690},\n",
    "        'o': {'abundance': 45.0000, 'density': 1.3310E-03}\n",
    "    }\n",
    "\n",
    "    # Load incident spectrum data\n",
    "    incident_file_path = '/media/ka/Windows/Users/khush/Downloads/Cross_section/modelop_20210827T210316000_20210827T210332000(1).txt'  # Update with the actual file path\n",
    "    incident_spectrum = load_incident_spectrum(incident_file_path)\n",
    "\n",
    "    # Check if the incident spectrum was loaded successfully\n",
    "    if incident_spectrum is not None:\n",
    "        energies = incident_spectrum['Energy'].values  # Array of energy values\n",
    "        incident_intensity = incident_spectrum['Intensity'].values  # Array of intensity values\n",
    "\n",
    "        # Calculate the total scattered spectrum\n",
    "        total_scattered_spectrum = model_scattered_spectrum_with_density(ffast_data_dict, incident_intensity, energies, element_properties)\n",
    "\n",
    "        # Output the resulting scattered spectrum\n",
    "        print(\"Total Scattered Spectrum:\", total_scattered_spectrum)\n",
    "\n",
    "        # Save the total scattered spectrum to a CSV file\n",
    "        result_df = pd.DataFrame({\n",
    "            'Energy': energies,\n",
    "            'Total Scattered Spectrum': total_scattered_spectrum\n",
    "        })\n",
    "        \n",
    "        # Save as CSV\n",
    "        output_file_path = '/home/ka/Downloads/fv5.5.2/total_scattered_spectrum.csv'  # Update with your desired file path\n",
    "        result_df.to_csv(output_file_path, index=False)\n",
    "        print(f\"Saved total scattered spectrum to {output_file_path}\")\n",
    "\n",
    "        # Plot the total scattered spectrum\n",
    "        plt.plot(energies, total_scattered_spectrum, label=\"Total Scattered Spectrum\")\n",
    "        plt.xlabel(\"Energy (eV or other units)\")\n",
    "        plt.ylabel(\"Scattered Intensity\")\n",
    "        plt.legend()\n",
    "        plt.show()\n",
    "\n",
    "if __name__ == \"__main__\":\n",
    "    main()\n"
   ]
  },
  {
   "cell_type": "code",
   "execution_count": 38,
   "metadata": {},
   "outputs": [
    {
     "name": "stdout",
     "output_type": "stream",
     "text": [
      "   Energy  Total Scattered Spectrum\n",
      "0    0.10              2.115261e+09\n",
      "1    0.11              4.661709e+09\n",
      "2    0.12              1.351787e+09\n",
      "3    0.13              9.849414e+08\n",
      "4    0.14              4.352987e+08\n"
     ]
    }
   ],
   "source": [
    "import pandas as pd\n",
    "\n",
    "# Load the theoretical spectrum from the CSV file\n",
    "theoretical_spectrum_df = pd.read_csv('/home/ka/Downloads/fv5.5.2/total_scattered_spectrum.csv')\n",
    "\n",
    "# Check the first few rows of the data\n",
    "print(theoretical_spectrum_df.head())\n"
   ]
  },
  {
   "cell_type": "code",
   "execution_count": 39,
   "metadata": {},
   "outputs": [
    {
     "name": "stdout",
     "output_type": "stream",
     "text": [
      "Missing values in each column: Energy                        0\n",
      "Total Scattered Spectrum    206\n",
      "dtype: int64\n"
     ]
    }
   ],
   "source": [
    "# Check for missing (NaN) values in the theoretical spectrum\n",
    "missing_values = theoretical_spectrum_df.isnull().sum()\n",
    "print(\"Missing values in each column:\", missing_values)\n"
   ]
  },
  {
   "cell_type": "code",
   "execution_count": 40,
   "metadata": {},
   "outputs": [
    {
     "name": "stdout",
     "output_type": "stream",
     "text": [
      "   Energy  Total Scattered Spectrum\n",
      "0    0.10              2.115261e+09\n",
      "1    0.11              4.661709e+09\n",
      "2    0.12              1.351787e+09\n",
      "3    0.13              9.849414e+08\n",
      "4    0.14              4.352987e+08\n"
     ]
    }
   ],
   "source": [
    "# Interpolate missing values in the \"Total Scattered Spectrum\" column\n",
    "theoretical_spectrum_interpolated = theoretical_spectrum_df.copy()\n",
    "theoretical_spectrum_interpolated['Total Scattered Spectrum'] = theoretical_spectrum_interpolated['Total Scattered Spectrum'].interpolate()\n",
    "print(theoretical_spectrum_interpolated.head())\n"
   ]
  },
  {
   "cell_type": "code",
   "execution_count": 41,
   "metadata": {},
   "outputs": [
    {
     "name": "stdout",
     "output_type": "stream",
     "text": [
      "Interpolated theoretical spectrum saved to: /home/ka/Downloads/fv5.5.2/interpolated_theoretical_spectrum.csv\n"
     ]
    }
   ],
   "source": [
    "# Save the interpolated spectrum to a new CSV file\n",
    "interpolated_file_path = '/home/ka/Downloads/fv5.5.2/interpolated_theoretical_spectrum.csv'\n",
    "theoretical_spectrum_interpolated.to_csv(interpolated_file_path, index=False)\n",
    "\n",
    "print(f\"Interpolated theoretical spectrum saved to: {interpolated_file_path}\")\n"
   ]
  }
 ],
 "metadata": {
  "kernelspec": {
   "display_name": "Python 3",
   "language": "python",
   "name": "python3"
  },
  "language_info": {
   "codemirror_mode": {
    "name": "ipython",
    "version": 3
   },
   "file_extension": ".py",
   "mimetype": "text/x-python",
   "name": "python",
   "nbconvert_exporter": "python",
   "pygments_lexer": "ipython3",
   "version": "3.12.3"
  }
 },
 "nbformat": 4,
 "nbformat_minor": 2
}
