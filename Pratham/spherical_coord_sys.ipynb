{
  "nbformat": 4,
  "nbformat_minor": 0,
  "metadata": {
    "colab": {
      "provenance": []
    },
    "kernelspec": {
      "name": "python3",
      "display_name": "Python 3"
    },
    "language_info": {
      "name": "python"
    }
  },
  "cells": [
    {
      "cell_type": "code",
      "execution_count": null,
      "metadata": {
        "id": "JUMt0rqaHAWC"
      },
      "outputs": [],
      "source": []
    },
    {
      "cell_type": "code",
      "source": [
        "R=1737.4"
      ],
      "metadata": {
        "id": "VUgGe2WwIXbg"
      },
      "execution_count": null,
      "outputs": []
    },
    {
      "cell_type": "code",
      "source": [
        "import math\n",
        "\n",
        "# Radius of the Moon (in km)\n",
        "R = 1737.4\n",
        "\n",
        "# Convert degrees to radians\n",
        "def deg_to_rad(deg):\n",
        "    return deg * math.pi / 180.0\n",
        "\n",
        "# Convert latitude, longitude to Cartesian coordinates (x, y, z)\n",
        "def lat_lon_to_cartesian(lat, lon):\n",
        "    lat_rad = deg_to_rad(lat)\n",
        "    lon_rad = deg_to_rad(lon)\n",
        "    x = R * math.cos(lat_rad) * math.cos(lon_rad)\n",
        "    y = R * math.cos(lat_rad) * math.sin(lon_rad)\n",
        "    z = R * math.sin(lat_rad)\n",
        "    return x, y, z\n",
        "\n",
        "# Shoelace theorem to calculate the area of a polygon\n",
        "# The input is a list of points (x, y) that form a closed polygon\n",
        "def polygon_area(points):\n",
        "    n = len(points)\n",
        "    area = 0.0\n",
        "    for i in range(n):\n",
        "        j = (i + 1) % n  # Next point (wrap around to 0 if at the last point)\n",
        "        area += points[i][0] * points[j][1]\n",
        "        area -= points[j][0] * points[i][1]\n",
        "    area = abs(area) / 2.0\n",
        "    return area\n",
        "\n",
        "# Example: 4 points on the Moon (latitude, longitude)\n",
        "coordinates = [\n",
        "    (10.0, 20.0),  # Point 1 (lat, lon)\n",
        "    (15.0, 25.0),  # Point 2\n",
        "    (10.0, 25.0),  # Point 3\n",
        "    (15.0, 20.0)   # Point 4\n",
        "]\n",
        "\n",
        "# Convert lat/lon to Cartesian coordinates (x, y)\n",
        "cartesian_points = [lat_lon_to_cartesian(lat, lon) for lat, lon in coordinates]\n",
        "\n",
        "# Now, project these points into a 2D plane (x, y) for the area calculation\n",
        "# Use the 2D projection (x, y) for area calculation (ignore the z-coordinate)\n",
        "xy_points = [(x, y) for x, y, z in cartesian_points]\n",
        "\n",
        "# Calculate the area of the polygon formed by the points\n",
        "area = polygon_area(xy_points)\n",
        "\n",
        "print(f\"Area of the intersection polygon: {area:.2f} km²\")\n"
      ],
      "metadata": {
        "colab": {
          "base_uri": "https://localhost:8080/"
        },
        "id": "mwF-cgV4KSN2",
        "outputId": "7ef2a62d-31d2-461d-efa2-fcf541e3de79"
      },
      "execution_count": null,
      "outputs": [
        {
          "output_type": "stream",
          "name": "stdout",
          "text": [
            "Area of the intersection polygon: 0.00 km²\n"
          ]
        }
      ]
    },
    {
      "cell_type": "code",
      "source": [
        "import math\n",
        "\n",
        "# Constants\n",
        "RADIUS_MOON = 1737.4  # Radius of the Moon in km\n",
        "\n",
        "# Helper function to convert lat/lon to Cartesian coordinates\n",
        "def lat_lon_to_cartesian(lat, lon):\n",
        "    \"\"\"\n",
        "    Converts latitude and longitude to Cartesian coordinates.\n",
        "\n",
        "    Args:\n",
        "    lat (float): Latitude in degrees.\n",
        "    lon (float): Longitude in degrees.\n",
        "\n",
        "    Returns:\n",
        "    tuple: (x, y, z) Cartesian coordinates in kilometers.\n",
        "    \"\"\"\n",
        "    # Convert degrees to radians\n",
        "    lat_rad = math.radians(lat)\n",
        "    lon_rad = math.radians(lon)\n",
        "\n",
        "    # Calculate Cartesian coordinates\n",
        "    x = RADIUS_MOON * math.cos(lat_rad) * math.cos(lon_rad)\n",
        "    y = RADIUS_MOON * math.cos(lat_rad) * math.sin(lon_rad)\n",
        "\n",
        "    z = RADIUS_MOON * math.sin(lat_rad)\n",
        "    # print(x,y,z)\n",
        "    return (x, y, z)\n",
        "\n",
        "# Helper function to project 3D Cartesian coordinates to 2D using Azimuthal Equidistant projection\n",
        "def cartesian_to_2d_projection(x, y, z):\n",
        "    \"\"\"\n",
        "    Projects 3D Cartesian coordinates to 2D using an azimuthal equidistant projection.\n",
        "\n",
        "    Args:\n",
        "    x, y, z (float): Cartesian coordinates (x, y, z) in km.\n",
        "\n",
        "    Returns:\n",
        "    tuple: (x2d, y2d) 2D projected coordinates.\n",
        "    \"\"\"\n",
        "    # Azimuthal Equidistant Projection (centered at the origin)\n",
        "    r = math.sqrt((x-RADIUS_MOON)**2 + y**2)  # radial distance in the xy-plane\n",
        "    # print(r)\n",
        "    x2d = r  # x-coordinate in 2D\n",
        "    y2d = z  # y-coordinate in 2D\n",
        "\n",
        "\n",
        "    return (x2d, y2d)\n",
        "\n",
        "# Function to calculate the area of a polygon formed by the 2D projected points\n",
        "def calculate_area_2d(points):\n",
        "    \"\"\"\n",
        "    Calculate the area of a polygon given its vertices in 2D using the Shoelace Theorem.\n",
        "\n",
        "    Args:\n",
        "    points (list of tuples): List of (x2d, y2d) points in 2D.\n",
        "\n",
        "    Returns:\n",
        "    float: Area of the polygon in km^2.\n",
        "    \"\"\"\n",
        "    n = len(points)\n",
        "    area = 0.0\n",
        "\n",
        "    for i in range(n):\n",
        "        j = (i + 1) % n  # next point, wrapping around at the end\n",
        "        x1, y1 = points[i]\n",
        "        x2, y2 = points[j]\n",
        "        area += x1 * y2 - x2 * y1\n",
        "\n",
        "    area = abs(area) / 2.0\n",
        "    return area\n",
        "\n",
        "# Main function to handle the input and process the calculation\n",
        "def calculate_moon_area(lat_lon_points):\n",
        "    \"\"\"\n",
        "    Calculate the area enclosed by a set of latitude/longitude points on the Moon's surface.\n",
        "\n",
        "    Args:\n",
        "    lat_lon_points (list of tuples): List of (lat, lon) tuples.\n",
        "\n",
        "    Returns:\n",
        "    float: Area of the polygon in km^2.\n",
        "    \"\"\"\n",
        "    # Step 1: Convert lat/lon points to Cartesian coordinates\n",
        "    cartesian_points = [lat_lon_to_cartesian(lat, lon) for lat, lon in lat_lon_points]\n",
        "\n",
        "    # Step 2: Project the Cartesian coordinates to 2D\n",
        "    projected_points = [cartesian_to_2d_projection(x, y, z) for x, y, z in cartesian_points]\n",
        "    # print(projected_points\n",
        "\n",
        "    # Step 3: Calculate the area of the polygon in 2D using the Shoelace Theorem\n",
        "    area = calculate_area_2d(projected_points)\n",
        "\n",
        "    return area\n",
        "\n",
        "# Example Usage:\n",
        "# lat_lon_points = [\n",
        "#     (0,0)\n",
        "\n",
        "\n",
        "# ]\n",
        "lat_lon_points = [\n",
        "    (10.0, 10.0),   # Example 1: Latitude, Longitude\n",
        "    (10.0, 20.0),\n",
        "    (20.0, 20.0),\n",
        "    (20.0, 10.0)\n",
        "]\n",
        "area = calculate_moon_area(lat_lon_points)\n",
        "print(f\"The area of the polygon on the Moon's surface is {area:.2f} km²\")\n"
      ],
      "metadata": {
        "colab": {
          "base_uri": "https://localhost:8080/"
        },
        "id": "U3YaQ6BYKnVY",
        "outputId": "b80b8b25-0af8-48ac-bcb6-d456597bfbb3"
      },
      "execution_count": null,
      "outputs": [
        {
          "output_type": "stream",
          "name": "stdout",
          "text": [
            "[(301.69634387852483, 301.6963438785248), (599.3731703566314, 301.6963438785248), (594.2257970140168, 594.2257970140168), (311.7123408145481, 594.2257970140168)]\n",
            "The area of the polygon on the Moon's surface is 84861.37 km²\n"
          ]
        }
      ]
    },
    {
      "cell_type": "code",
      "source": [
        "import geopandas as gpd\n",
        "from shapely.geometry import Polygon\n",
        "from math import radians\n",
        "from math import radians, cos, sin # Import cos and sin\n",
        "\n",
        "\n",
        "# Approximate radius of the Moon in kilometers\n",
        "moon_radius = 1737.4  # in km\n",
        "\n",
        "# Define the latitudes and longitudes of the four vertices of the quadrilateral (in degrees)\n",
        "latitudes = [10, 10, 20, 20]  # Example latitudes (in degrees)\n",
        "longitudes = [10, 20, 20, 10]  # Example longitudes (in degrees)\n",
        "\n",
        "# Convert latitudes and longitudes to radians\n",
        "latitudes_rad = [radians(lat) for lat in latitudes]\n",
        "longitudes_rad = [radians(lon) for lon in longitudes]\n",
        "\n",
        "# Convert latitudes and longitudes to 3D Cartesian coordinates\n",
        "def latlon_to_xyz(lat, lon, radius):\n",
        "    \"\"\" Convert latitude and longitude to 3D Cartesian coordinates on the sphere \"\"\"\n",
        "    x = radius * cos(lat) * cos(lon)\n",
        "    y = radius * cos(lat) * sin(lon)\n",
        "    z = radius * sin(lat)\n",
        "    return x, y, z\n",
        "\n",
        "# Generate the 3D Cartesian coordinates for each vertex\n",
        "coordinates = [latlon_to_xyz(lat, lon, moon_radius) for lat, lon in zip(latitudes_rad, longitudes_rad)]\n",
        "\n",
        "# Create a polygon from these coordinates (in 2D latitude and longitude)\n",
        "polygon = Polygon([(longitudes[i], latitudes[i]) for i in range(len(latitudes))])\n",
        "\n",
        "# Create a GeoDataFrame to handle the polygon\n",
        "gdf = gpd.GeoDataFrame([1], geometry=[polygon], crs=\"EPSG:4326\")\n",
        "\n",
        "# Compute the area of the polygon on the spherical surface\n",
        "# Note: This will return the area on a spherical projection (not flat)\n",
        "area_km2 = gdf.area.values[0] * (moon_radius**2)  # in km^2\n",
        "\n",
        "print(f\"Area of the quadrilateral on the Moon: {area_km2:.2f} km²\")\n"
      ],
      "metadata": {
        "colab": {
          "base_uri": "https://localhost:8080/"
        },
        "id": "4kFQuy1NMujw",
        "outputId": "03ca368c-962d-4142-d205-d591f8c95f91"
      },
      "execution_count": null,
      "outputs": [
        {
          "output_type": "stream",
          "name": "stdout",
          "text": [
            "Area of the quadrilateral on the Moon: 301855876.00 km²\n"
          ]
        },
        {
          "output_type": "stream",
          "name": "stderr",
          "text": [
            "<ipython-input-27-c3417737b6e8>:37: UserWarning: Geometry is in a geographic CRS. Results from 'area' are likely incorrect. Use 'GeoSeries.to_crs()' to re-project geometries to a projected CRS before this operation.\n",
            "\n",
            "  area_km2 = gdf.area.values[0] * (moon_radius**2)  # in km^2\n"
          ]
        }
      ]
    },
    {
      "cell_type": "code",
      "source": [
        "import geopandas as gpd\n",
        "from shapely.geometry import Polygon\n",
        "from math import radians, cos, sin # Import cos and sin\n",
        "\n",
        "# Approximate radius of the Moon in kilometers\n",
        "moon_radius = 1737.4  # in km\n",
        "\n",
        "# Define the latitudes and longitudes of the four vertices of the quadrilateral (in degrees)\n",
        "latitudes = [-44.76, -50.51, -50.4, -44.74]  # Example latitudes (in degrees)\n",
        "longitudes = [120.4, 120.5, 121.91, 121.66]  # Example longitudes (in degrees)\n",
        "\n",
        "# Convert latitudes and longitudes to radians\n",
        "latitudes_rad = [radians(lat) for lat in latitudes]\n",
        "longitudes_rad = [radians(lon) for lon in longitudes]\n",
        "\n",
        "# Convert latitudes and longitudes to 3D Cartesian coordinates\n",
        "def latlon_to_xyz(lat, lon, radius):\n",
        "    \"\"\" Convert latitude and longitude to 3D Cartesian coordinates on the sphere \"\"\"\n",
        "    x = radius * cos(lat) * cos(lon)\n",
        "    y = radius * cos(lat) * sin(lon)\n",
        "    z = radius * sin(lat)\n",
        "    return x, y, z\n",
        "\n",
        "# Generate the 3D Cartesian coordinates for each vertex\n",
        "coordinates = [latlon_to_xyz(lat, lon, moon_radius) for lat, lon in zip(latitudes_rad, longitudes_rad)]\n",
        "\n",
        "# Create a polygon from these coordinates (in 2D latitude and longitude)\n",
        "polygon = Polygon([(longitudes[i], latitudes[i]) for i in range(len(latitudes))])\n",
        "\n",
        "# Create a GeoDataFrame to handle the polygon\n",
        "gdf = gpd.GeoDataFrame([1], geometry=[polygon], crs=\"EPSG:4326\")\n",
        "\n",
        "# Compute the area of the polygon on the spherical surface\n",
        "# Note: This will return the area on a spherical projection (not flat)\n",
        "area_km2 = gdf.area.values[0] * (moon_radius**2)  # in km^2\n",
        "\n",
        "print(f\"Area of the quadrilateral on the Moon: {area_km2:.2f} km²\")"
      ],
      "metadata": {
        "colab": {
          "base_uri": "https://localhost:8080/"
        },
        "id": "eJw83X9LSFOp",
        "outputId": "0d457e49-a284-4e06-ae2c-b5b9ba8c9fc3"
      },
      "execution_count": null,
      "outputs": [
        {
          "output_type": "stream",
          "name": "stdout",
          "text": [
            "Area of the quadrilateral on the Moon: 23024207.87 km²\n"
          ]
        },
        {
          "output_type": "stream",
          "name": "stderr",
          "text": [
            "<ipython-input-34-d077d2beba11>:35: UserWarning: Geometry is in a geographic CRS. Results from 'area' are likely incorrect. Use 'GeoSeries.to_crs()' to re-project geometries to a projected CRS before this operation.\n",
            "\n",
            "  area_km2 = gdf.area.values[0] * (moon_radius**2)  # in km^2\n"
          ]
        }
      ]
    },
    {
      "cell_type": "code",
      "source": [
        "from shapely.geometry import Polygon\n",
        "\n",
        "def compute_intersection_area(coords1, coords2):\n",
        "    \"\"\"\n",
        "    Compute the area of intersection between two quadrilaterals.\n",
        "\n",
        "    Parameters:\n",
        "    - coords1, coords2: Lists of tuples representing the (x, y) coordinates of the quadrilaterals.\n",
        "\n",
        "    Returns:\n",
        "    - Intersection area (float).\n",
        "    \"\"\"\n",
        "    # Create Polygon objects from the coordinate lists\n",
        "    poly1 = Polygon(coords1)\n",
        "    poly2 = Polygon(coords2)\n",
        "\n",
        "    # Compute the intersection of the two polygons\n",
        "    intersection = poly1.intersection(poly2)\n",
        "\n",
        "    # If there is an intersection, return its area. Otherwise, return 0.\n",
        "    if intersection.is_empty:\n",
        "        return 0.0\n",
        "    else:\n",
        "        return intersection.area\n",
        "\n",
        "# Example coordinates for two quadrilaterals (these are arbitrary points)\n",
        "quad1_coords = [(1, 1), (5, 1), (5, 5), (1, 5)]  # First quadrilateral\n",
        "quad2_coords = [(3, 3), (7, 3), (7, 7), (3, 7)]  # Second quadrilateral\n",
        "\n",
        "# Compute the intersection area\n",
        "intersection_area = compute_intersection_area(quad1_coords, quad2_coords)\n",
        "\n",
        "print(f\"Area of intersection: {intersection_area:.2f} square units\")\n"
      ],
      "metadata": {
        "colab": {
          "base_uri": "https://localhost:8080/"
        },
        "id": "qznmfP6tTn_n",
        "outputId": "19087cef-b0de-4b45-854a-a5cb9ea1e146"
      },
      "execution_count": null,
      "outputs": [
        {
          "output_type": "stream",
          "name": "stdout",
          "text": [
            "Area of intersection: 4.00 square units\n"
          ]
        }
      ]
    },
    {
      "cell_type": "markdown",
      "source": [
        "Helper Functions"
      ],
      "metadata": {
        "id": "cUOlwibZU8PK"
      }
    },
    {
      "cell_type": "code",
      "source": [
        "import math\n",
        "from shapely.geometry import Polygon\n",
        "\n",
        "# Constants\n",
        "RADIUS_MOON = 1737.4  # Radius of the Moon in km\n",
        "\n",
        "# Helper function to convert lat/lon to Cartesian coordinates\n",
        "def lat_lon_to_cartesian(lat, lon):\n",
        "    \"\"\"\n",
        "    Converts latitude and longitude to Cartesian coordinates.\n",
        "\n",
        "    Args:\n",
        "    lat (float): Latitude in degrees.\n",
        "    lon (float): Longitude in degrees.\n",
        "\n",
        "    Returns:\n",
        "    tuple: (x, y, z) Cartesian coordinates in kilometers.\n",
        "    \"\"\"\n",
        "    # Convert degrees to radians\n",
        "    lat_rad = math.radians(lat)\n",
        "    lon_rad = math.radians(lon)\n",
        "\n",
        "    # Calculate Cartesian coordinates\n",
        "    x = RADIUS_MOON * math.cos(lat_rad) * math.cos(lon_rad)\n",
        "    y = RADIUS_MOON * math.cos(lat_rad) * math.sin(lon_rad)\n",
        "\n",
        "    z = RADIUS_MOON * math.sin(lat_rad)\n",
        "    # print(x,y,z)\n",
        "    return (x, y, z)\n",
        "\n",
        "# Helper function to project 3D Cartesian coordinates to 2D using Azimuthal Equidistant projection\n",
        "def cartesian_to_2d_projection(x, y, z):\n",
        "    \"\"\"\n",
        "    Projects 3D Cartesian coordinates to 2D using an azimuthal equidistant projection.\n",
        "\n",
        "    Args:\n",
        "    x, y, z (float): Cartesian coordinates (x, y, z) in km.\n",
        "\n",
        "    Returns:\n",
        "    tuple: (x2d, y2d) 2D projected coordinates.\n",
        "    \"\"\"\n",
        "    # Azimuthal Equidistant Projection (centered at the origin)\n",
        "    r = math.sqrt((x-RADIUS_MOON)**2 + y**2)  # radial distance in the xy-plane\n",
        "    # print(r)\n",
        "    x2d = r  # x-coordinate in 2D\n",
        "    y2d = z  # y-coordinate in 2D\n",
        "\n",
        "\n",
        "    return (x2d, y2d)\n",
        "\n",
        "# Function to calculate the area of a polygon formed by the 2D projected points\n",
        "def calculate_area_2d(points):\n",
        "    \"\"\"\n",
        "    Calculate the area of a polygon given its vertices in 2D using the Shoelace Theorem.\n",
        "\n",
        "    Args:\n",
        "    points (list of tuples): List of (x2d, y2d) points in 2D.\n",
        "\n",
        "    Returns:\n",
        "    float: Area of the polygon in km^2.\n",
        "    \"\"\"\n",
        "    n = len(points)\n",
        "    area = 0.0\n",
        "\n",
        "    for i in range(n):\n",
        "        j = (i + 1) % n  # next point, wrapping around at the end\n",
        "        x1, y1 = points[i]\n",
        "        x2, y2 = points[j]\n",
        "        area += x1 * y2 - x2 * y1\n",
        "\n",
        "    area = abs(area) / 2.0\n",
        "    return area\n",
        "\n",
        "# Main function to handle the input and process the calculation\n",
        "def calculate_moon_area(lat_lon_points):\n",
        "    \"\"\"\n",
        "    Calculate the area enclosed by a set of latitude/longitude points on the Moon's surface.\n",
        "\n",
        "    Args:\n",
        "    lat_lon_points (list of tuples): List of (lat, lon) tuples.\n",
        "\n",
        "    Returns:\n",
        "    float: Area of the polygon in km^2.\n",
        "    \"\"\"\n",
        "    # Step 1: Convert lat/lon points to Cartesian coordinates\n",
        "    cartesian_points = [lat_lon_to_cartesian(lat, lon) for lat, lon in lat_lon_points]\n",
        "\n",
        "    # Step 2: Project the Cartesian coordinates to 2D\n",
        "    projected_points = [cartesian_to_2d_projection(x, y, z) for x, y, z in cartesian_points]\n",
        "    # print(projected_points\n",
        "\n",
        "    # Step 3: Calculate the area of the polygon in 2D using the Shoelace Theorem\n",
        "    area = calculate_area_2d(projected_points)\n",
        "\n",
        "    return area\n"
      ],
      "metadata": {
        "id": "uzE6r0LrUl_k"
      },
      "execution_count": null,
      "outputs": []
    },
    {
      "cell_type": "code",
      "source": [
        "# def compute_intersection_area(coords1, coords2):\n",
        "#     \"\"\"\n",
        "#     Compute the area of intersection between two quadrilaterals.\n",
        "\n",
        "#     Parameters:\n",
        "#     - coords1, coords2: Lists of tuples representing the (x, y) coordinates of the quadrilaterals.\n",
        "\n",
        "#     Returns:\n",
        "#     - Intersection area (float).\n",
        "#     \"\"\"\n",
        "#     # Create Polygon objects from the coordinate lists\n",
        "#     poly1 = Polygon(coords1)\n",
        "#     poly2 = Polygon(coords2)\n",
        "\n",
        "#     # Compute the intersection of the two polygons\n",
        "#     intersection = poly1.intersection(poly2)\n",
        "\n",
        "#     # If there is an intersection, return its area. Otherwise, return 0.\n",
        "#     if intersection.is_empty:\n",
        "#         return 0.0\n",
        "#     else:\n",
        "#         return intersection.area\n",
        "\n",
        "# # Example coordinates for two quadrilaterals (these are arbitrary points)\n",
        "# quad1_coords = [(1, 1), (5, 1), (5, 5), (1, 5)]  # First quadrilateral\n",
        "# quad2_coords = [(3, 3), (7, 3), (7, 7), (3, 7)]  # Second quadrilateral\n",
        "\n",
        "# # Compute the intersection area\n",
        "# intersection_area = compute_intersection_area(quad1_coords, quad2_coords)\n",
        "\n",
        "# print(f\"Area of intersection: {intersection_area:.2f} square units\")"
      ],
      "metadata": {
        "id": "M5M4t_v6VNd_"
      },
      "execution_count": null,
      "outputs": []
    },
    {
      "cell_type": "code",
      "source": [
        "\n",
        "def compute_intersection_area(coords1, coords2):\n",
        "    \"\"\"\n",
        "    Compute the area of intersection between two quadrilaterals in 2D.\n",
        "\n",
        "    Parameters:\n",
        "    - coords1, coords2: Lists of tuples representing (x, y) coordinates of the quadrilaterals.\n",
        "\n",
        "    Returns:\n",
        "    - intersection_area: Area of the intersection (float).\n",
        "    \"\"\"\n",
        "    # Create Polygon objects from the 2D projection coordinates\n",
        "    poly1 = Polygon(coords1)\n",
        "    poly2 = Polygon(coords2)\n",
        "\n",
        "    # Compute the intersection of the two polygons\n",
        "    intersection = poly1.intersection(poly2)\n",
        "\n",
        "    # If there is an intersection, return its area. Otherwise, return 0.\n",
        "    if intersection.is_empty:\n",
        "        return 0.0\n",
        "    else:\n",
        "        return intersection.area\n",
        "\n",
        "# Example input quadrilaterals (latitude, longitude tuples)\n",
        "quad1_latlon = [(10, 10), (10, 20), (20, 20), (20, 10)]  # Quadrilateral 1\n",
        "quad2_latlon = [(15, 15), (15, 25), (25, 25), (25, 15)]  # Quadrilateral 2\n",
        "\n",
        "# Step 1: Convert the latitudes and longitudes to Cartesian coordinates\n",
        "quad1_cartesian = [lat_lon_to_cartesian(lat, lon) for lat, lon in quad1_latlon]\n",
        "quad2_cartesian = [lat_lon_to_cartesian(lat, lon) for lat, lon in quad2_latlon]\n",
        "\n",
        "# Step 2: Convert the Cartesian coordinates to 2D projections\n",
        "quad1_2d = [cartesian_to_2d_projection(x, y, z) for x, y, z in quad1_cartesian]\n",
        "quad2_2d = [cartesian_to_2d_projection(x, y, z) for x, y, z in quad2_cartesian]\n",
        "\n",
        "# Step 3: Compute the area of intersection between the two 2D polygons\n",
        "intersection_area = compute_intersection_area(quad1_2d, quad2_2d)\n",
        "\n",
        "print(f\"Area of intersection: {intersection_area:.2f} square units\")\n"
      ],
      "metadata": {
        "colab": {
          "base_uri": "https://localhost:8080/"
        },
        "id": "LMbjTLDzVimd",
        "outputId": "82b4f0a5-e8eb-495b-c051-829a9521c232"
      },
      "execution_count": null,
      "outputs": [
        {
          "output_type": "stream",
          "name": "stdout",
          "text": [
            "Area of intersection: 20647.27 square units\n"
          ]
        }
      ]
    },
    {
      "cell_type": "code",
      "source": [
        "lat_lon_points = [\n",
        "    (-44.76,\t120.4),   # Example 1: Latitude, Longitude\n",
        "    (-50.51,\t120.5),\n",
        "    (-50.49,\t121.91),\n",
        "    (-44.74\t,121.66)\n",
        "]\n",
        "area = calculate_moon_area(lat_lon_points)\n",
        "print(f\"The area of the polygon on the Moon's surface is {area:.2f} km²\")"
      ],
      "metadata": {
        "colab": {
          "base_uri": "https://localhost:8080/"
        },
        "id": "Ea2h3N6ZaY4q",
        "outputId": "d4eb9206-3dd5-4ddc-92c1-a33f87b57af6"
      },
      "execution_count": null,
      "outputs": [
        {
          "output_type": "stream",
          "name": "stdout",
          "text": [
            "The area of the polygon on the Moon's surface is 1864.97 km²\n"
          ]
        }
      ]
    },
    {
      "cell_type": "code",
      "source": [
        "80.91\t166.06\t75.21\t167.25\t75.21\t170.41\t80.92\t171.12"
      ],
      "metadata": {
        "id": "WiCZQKy6bgTz"
      },
      "execution_count": null,
      "outputs": []
    },
    {
      "cell_type": "code",
      "source": [
        "lat_lon_points = [\n",
        "    (80.91,166.06),   # Example 1: Latitude, Longitude\n",
        "    (75.21,167.25),\n",
        "    (75.21,170.41),\n",
        "    (80.92,171.12)\n",
        "]\n",
        "area = calculate_moon_area(lat_lon_points)\n",
        "print(f\"The area of the polygon on the Moon's surface is {area:.2f} km²\")"
      ],
      "metadata": {
        "colab": {
          "base_uri": "https://localhost:8080/"
        },
        "id": "A89cL8kZc3YZ",
        "outputId": "2243449c-9b33-4272-af1e-096a0eaf89f3"
      },
      "execution_count": null,
      "outputs": [
        {
          "output_type": "stream",
          "name": "stdout",
          "text": [
            "The area of the polygon on the Moon's surface is 140.63 km²\n"
          ]
        }
      ]
    },
    {
      "cell_type": "code",
      "source": [],
      "metadata": {
        "id": "UiTOWyH0dD2n"
      },
      "execution_count": null,
      "outputs": []
    }
  ]
}